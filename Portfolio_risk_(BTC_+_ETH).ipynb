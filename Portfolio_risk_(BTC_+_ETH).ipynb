{
  "nbformat": 4,
  "nbformat_minor": 0,
  "metadata": {
    "colab": {
      "provenance": []
    },
    "kernelspec": {
      "name": "python3",
      "display_name": "Python 3"
    },
    "language_info": {
      "name": "python"
    }
  },
  "cells": [
    {
      "cell_type": "code",
      "execution_count": null,
      "metadata": {
        "id": "NBqMVyaA7_tw"
      },
      "outputs": [],
      "source": [
        "# Choose weights (sum to 1.0)\n",
        "weights = {\"BTC-USD\": 0.6, \"ETH-USD\": 0.4}\n",
        "\n",
        "# Pivot to aligned returns\n",
        "pivot = df_ret.pivot(index=\"date\", columns=\"symbol\", values=\"simple_return\").dropna()\n",
        "common_assets = [a for a in weights if a in pivot.columns]\n",
        "W = np.array([weights[a] for a in common_assets])\n",
        "\n",
        "# Portfolio daily returns\n",
        "port_ret = (pivot[common_assets] @ W)\n",
        "\n",
        "# Metrics\n",
        "port_vol_ann = port_ret.std() * np.sqrt(365)\n",
        "port_sr = sharpe_ratio(port_ret)\n",
        "port_sor = sortino_ratio(port_ret)\n",
        "port_var95 = historical_var(port_ret, 0.95)\n",
        "port_cvar95 = historical_cvar(port_ret, 0.95)\n",
        "port_curve = (1 + port_ret).cumprod()\n",
        "port_mdd = max_drawdown(port_curve)\n",
        "\n",
        "print(\"=== Portfolio (BTC+ETH) Risk Summary ===\")\n",
        "print(f\"Annualized Volatility: {port_vol_ann:0.4f}\")\n",
        "print(f\"Sharpe Ratio:         {port_sr:0.4f}\")\n",
        "print(f\"Sortino Ratio:        {port_sor:0.4f}\")\n",
        "print(f\"VaR(95%):             {port_var95:0.4%}  (one-day)\")\n",
        "print(f\"CVaR(95%):            {port_cvar95:0.4%}  (one-day)\")\n",
        "print(f\"Max Drawdown:         {port_mdd:0.2%}\")\n",
        "\n",
        "# Plot cumulative returns\n",
        "plt.figure(figsize=(10,4))\n",
        "port_curve.plot()\n",
        "plt.title(\"BTC+ETH Portfolio: Cumulative Return\")\n",
        "plt.xlabel(\"Date\")\n",
        "plt.ylabel(\"Cumulative Return (gross)\")\n",
        "plt.show()\n",
        "6) Conditional volatility model (GARCH) for risk forecasting\n",
        "python\n",
        "Copy\n",
        "Edit\n",
        "# Fit a GARCH(1,1) on BTC log-returns\n",
        "btc_logret = df_ret[df_ret.symbol == \"BTC-USD\"].set_index(\"date\")[\"log_return\"].dropna()\n",
        "\n",
        "# arch expects returns in percent or raw; raw is fine\n",
        "am = arch_model(btc_logret * 100, vol=\"Garch\", p=1, q=1, dist=\"normal\", mean=\"Constant\")\n",
        "res = am.fit(disp=\"off\")\n",
        "print(res.summary())\n",
        "\n",
        "# Forecast 7-day ahead volatility (annualized)\n",
        "fore = res.forecast(horizon=7)\n",
        "# sigma2 is variance in percent^2; take sqrt for stdev, then scale to annual\n",
        "daily_sigma_pct = np.sqrt(fore.variance.values[-1, :])  # percent\n",
        "daily_sigma = daily_sigma_pct / 100.0\n",
        "annualized_sigma = daily_sigma * np.sqrt(365)\n",
        "print(\"\\n7-day ahead annualized volatility forecast:\")\n",
        "for i, v in enumerate(annualized_sigma, start=1):\n",
        "    print(f\"D+{i}: {v:.4f}\")"
      ]
    }
  ]
}