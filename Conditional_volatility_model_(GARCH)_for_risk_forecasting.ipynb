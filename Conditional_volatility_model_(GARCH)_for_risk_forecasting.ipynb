{
  "nbformat": 4,
  "nbformat_minor": 0,
  "metadata": {
    "colab": {
      "provenance": []
    },
    "kernelspec": {
      "name": "python3",
      "display_name": "Python 3"
    },
    "language_info": {
      "name": "python"
    }
  },
  "cells": [
    {
      "cell_type": "code",
      "execution_count": null,
      "metadata": {
        "id": "NBqMVyaA7_tw"
      },
      "outputs": [],
      "source": [
        "# Fit a GARCH(1,1) on BTC log-returns\n",
        "btc_logret = df_ret[df_ret.symbol == \"BTC-USD\"].set_index(\"date\")[\"log_return\"].dropna()\n",
        "\n",
        "# arch expects returns in percent or raw; raw is fine\n",
        "am = arch_model(btc_logret * 100, vol=\"Garch\", p=1, q=1, dist=\"normal\", mean=\"Constant\")\n",
        "res = am.fit(disp=\"off\")\n",
        "print(res.summary())\n",
        "\n",
        "# Forecast 7-day ahead volatility (annualized)\n",
        "fore = res.forecast(horizon=7)\n",
        "# sigma2 is variance in percent^2; take sqrt for stdev, then scale to annual\n",
        "daily_sigma_pct = np.sqrt(fore.variance.values[-1, :])  # percent\n",
        "daily_sigma = daily_sigma_pct / 100.0\n",
        "annualized_sigma = daily_sigma * np.sqrt(365)\n",
        "print(\"\\n7-day ahead annualized volatility forecast:\")\n",
        "for i, v in enumerate(annualized_sigma, start=1):\n",
        "    print(f\"D+{i}: {v:.4f}\")"
      ]
    }
  ]
}