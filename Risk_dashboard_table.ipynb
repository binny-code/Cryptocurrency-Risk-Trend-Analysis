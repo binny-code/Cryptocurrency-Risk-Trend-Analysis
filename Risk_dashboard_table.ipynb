{
  "nbformat": 4,
  "nbformat_minor": 0,
  "metadata": {
    "colab": {
      "provenance": []
    },
    "kernelspec": {
      "name": "python3",
      "display_name": "Python 3"
    },
    "language_info": {
      "name": "python"
    }
  },
  "cells": [
    {
      "cell_type": "code",
      "execution_count": null,
      "metadata": {
        "id": "NBqMVyaA7_tw"
      },
      "outputs": [],
      "source": [
        "def summarize(symbol, returns):\n",
        "    out = {\n",
        "        \"Asset\": symbol,\n",
        "        \"AnnVol\": returns.std()*np.sqrt(365),\n",
        "        \"Sharpe\": sharpe_ratio(returns),\n",
        "        \"Sortino\": sortino_ratio(returns),\n",
        "        \"VaR95\": historical_var(returns, 0.95),\n",
        "        \"CVaR95\": historical_cvar(returns, 0.95),\n",
        "        \"MaxDD\": max_drawdown((1+returns).cumprod())\n",
        "    }\n",
        "    return out\n",
        "\n",
        "rows = []\n",
        "for sym, grp in df_ret.groupby(\"symbol\"):\n",
        "    rows.append(summarize(sym, grp[\"simple_return\"].dropna()))\n",
        "rows.append(summarize(\"Portfolio(BTC60/ETH40)\", port_ret.dropna()))\n",
        "\n",
        "risk_table = pd.DataFrame(rows)\n",
        "display(risk_table)"
      ]
    }
  ]
}